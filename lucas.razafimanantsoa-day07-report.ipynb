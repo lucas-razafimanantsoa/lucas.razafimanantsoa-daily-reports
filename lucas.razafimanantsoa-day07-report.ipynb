{
 "cells": [
  {
   "cell_type": "markdown",
   "id": "dc430962",
   "metadata": {},
   "source": [
    "# <center> <b>AIMS Rwanda</b>\n",
    "## <center> <b> Lucas Mirija RAZAFIMANANTSOA </b>"
   ]
  },
  {
   "cell_type": "markdown",
   "id": "deb8a764",
   "metadata": {},
   "source": [
    "***\n",
    "***\n",
    "***"
   ]
  },
  {
   "cell_type": "markdown",
   "id": "82b5b062",
   "metadata": {},
   "source": [
    "# Functions"
   ]
  },
  {
   "cell_type": "markdown",
   "id": "40a39d35",
   "metadata": {},
   "source": [
    "### User-defined :\n",
    "\n",
    "```python\n",
    "def functionName([parameter1, parameter2, ..., parameterN]):\n",
    "    \"\"\" Documentation for the function \"\"\"\n",
    "    <block_of_instruction>\n",
    "```"
   ]
  },
  {
   "cell_type": "code",
   "execution_count": 2,
   "id": "82fe1491",
   "metadata": {},
   "outputs": [
    {
     "name": "stdout",
     "output_type": "stream",
     "text": [
      "8 x 1 = 8\n",
      "8 x 2 = 16\n",
      "8 x 3 = 24\n",
      "8 x 4 = 32\n",
      "8 x 5 = 40\n",
      "8 x 6 = 48\n",
      "8 x 7 = 56\n",
      "8 x 8 = 64\n",
      "8 x 9 = 72\n",
      "8 x 10 = 80\n"
     ]
    }
   ],
   "source": [
    "def multiplicationTable_8 ():\n",
    "    \"\"\"\n",
    "    Display the first 10 values of multiplication table for 8\n",
    "    Input : None\n",
    "    Output : THe multiplication table of 8\n",
    "    \"\"\"\n",
    "\n",
    "    n = 1\n",
    "    while n <= 10 : \n",
    "        value = n*8\n",
    "        print (f'8 x {n} = {value}')\n",
    "        n+=1\n",
    "\n",
    "multiplicationTable_8()"
   ]
  },
  {
   "cell_type": "code",
   "execution_count": 7,
   "id": "b3200d72",
   "metadata": {},
   "outputs": [
    {
     "name": "stdout",
     "output_type": "stream",
     "text": [
      "7 x 1 = 7\n",
      "7 x 2 = 14\n",
      "7 x 3 = 21\n",
      "7 x 4 = 28\n",
      "7 x 5 = 35\n",
      "7 x 6 = 42\n",
      "7 x 7 = 49\n",
      "7 x 8 = 56\n",
      "7 x 9 = 63\n",
      "7 x 10 = 70\n"
     ]
    }
   ],
   "source": [
    "def multiplicationTable (n,k):\n",
    "    \"\"\"\n",
    "    Display the first k values of multiplication table for n\n",
    "    Input : n (int : base)\n",
    "            k (int : number of values to display)\n",
    "    Output : The multiplication table of n\n",
    "    \"\"\"\n",
    "\n",
    "    for i in range (1,k+1):\n",
    "        value  = n*i\n",
    "        print (f'{n} x {i} = {value}')\n",
    "multiplicationTable(7,10)"
   ]
  },
  {
   "cell_type": "markdown",
   "id": "709de842",
   "metadata": {},
   "source": [
    "### One parameter; use of `return`"
   ]
  },
  {
   "cell_type": "code",
   "execution_count": 8,
   "id": "1346f530",
   "metadata": {},
   "outputs": [
    {
     "data": {
      "text/plain": [
       "9"
      ]
     },
     "execution_count": 8,
     "metadata": {},
     "output_type": "execute_result"
    }
   ],
   "source": [
    "def square (x):\n",
    "    \"\"\"\n",
    "    Calculate the square of a number.\n",
    "\n",
    "    Args : \n",
    "    x (float) : The number to be squared.\n",
    "\n",
    "    Returns : \n",
    "    float : The square of the input number\n",
    "    \"\"\"\n",
    "\n",
    "    return x**2\n",
    "\n",
    "\n",
    "def squareArea (r):\n",
    "    \"\"\"\n",
    "    Calculate the area of a square given its side length\n",
    "\n",
    "    Args : \n",
    "    r (float) : The length of the side of the square\n",
    "\n",
    "    Returns : \n",
    "    float : The area of the square.\n",
    "    \"\"\"\n",
    "\n",
    "    return square(r)\n",
    "\n",
    "\n",
    "squareArea (3)"
   ]
  },
  {
   "cell_type": "markdown",
   "id": "476a85ae",
   "metadata": {},
   "source": [
    "### Multiple returns"
   ]
  },
  {
   "cell_type": "code",
   "execution_count": 11,
   "id": "679be6f1",
   "metadata": {},
   "outputs": [
    {
     "name": "stdout",
     "output_type": "stream",
     "text": [
      "For a sphere or radius r = 56.0 :\n",
      "- its volume is V = 735618.5806037667\n",
      "- its surface is S = 39408.13824663036\n"
     ]
    }
   ],
   "source": [
    "from math import pi\n",
    "def surfaceVolumeSphere (r):\n",
    "    \"\"\"\n",
    "    Calculate the surface area and volume of a sphere.\n",
    "\n",
    "    Args:\n",
    "    r (float): The radius of the sphere.\n",
    "\n",
    "    Returns:\n",
    "    tuple: A tuple containing the surface area and volume of the sphere.\n",
    "    \"\"\"\n",
    "    surface = 4 * pi * r**2\n",
    "    volume = surface * r /3\n",
    "\n",
    "    return surface, volume\n",
    "\n",
    "radius = float (input ('Radius (r) of the sphere : '))\n",
    "S , V = surfaceVolumeSphere(radius)\n",
    "\n",
    "print (f'For a sphere or radius r = {radius} :\\n- its volume is V = {V}\\n- its surface is S = {S}')\n"
   ]
  },
  {
   "cell_type": "markdown",
   "id": "79671134",
   "metadata": {},
   "source": [
    "### Passing a function as a parameter "
   ]
  },
  {
   "cell_type": "code",
   "execution_count": 15,
   "id": "e90031db",
   "metadata": {},
   "outputs": [
    {
     "name": "stdout",
     "output_type": "stream",
     "text": [
      "f(-3) = 8\n",
      "f(-2) = 2\n",
      "f(-1) = 0\n",
      "f(0) = 2\n",
      "f(1) = 8\n",
      "f(2) = 18\n",
      "f(3) = 32\n"
     ]
    }
   ],
   "source": [
    "def displayValuesOfFunction (function, start, stop, value_counts):\n",
    "    \"\"\"\n",
    "    Display the values of function(x) for x in [start, stop].\n",
    "\n",
    "    Here function takes an integer as argument\n",
    "\n",
    "    Args : \n",
    "    function (function) : a function that takes an integee as an argument\n",
    "    start (int) : the initial value of x (arg of function)\n",
    "    stop (int) : the stop value for x\n",
    "\n",
    "    Returns :  \n",
    "    None (display values of f(x))\n",
    "    \"\"\"\n",
    "    step = (stop - start)/float(value_counts)\n",
    "    x = start\n",
    "    while x <=stop:\n",
    "        y = function(x)\n",
    "        print (f'f({x}) = {y}')\n",
    "        x+=1\n",
    "\n",
    "def my_function (x: int):\n",
    "    return 2*x**2 +4*x + 2\n",
    "\n",
    "displayValuesOfFunction (function = my_function, start = -3 , stop = 3, value_counts=10)"
   ]
  },
  {
   "cell_type": "markdown",
   "id": "a1929bc9",
   "metadata": {},
   "source": [
    "### Default values"
   ]
  },
  {
   "cell_type": "code",
   "execution_count": 19,
   "id": "849aa214",
   "metadata": {},
   "outputs": [
    {
     "name": "stdout",
     "output_type": "stream",
     "text": [
      "Hello Ms. Tendry\n"
     ]
    }
   ],
   "source": [
    "def hello (name, title = \"Mr\"):\n",
    "    \"\"\"\n",
    "    Displays a greeting message with the given name and an optional title.\n",
    "\n",
    "    Parameters:\n",
    "    name (str): The name of the person to greet.\n",
    "    title (str, optional): The title of the person (default is 'Monsieur').\n",
    "\n",
    "    Returns:\n",
    "    None\n",
    "    \"\"\"\n",
    "    print (f'Hello {title} {name}')\n",
    "\n",
    "hello (\"Tendry\", title=\"Ms.\")\n"
   ]
  },
  {
   "cell_type": "markdown",
   "id": "e12f2b11",
   "metadata": {},
   "source": [
    "<left> <b> <span style=\"color:red;\">\n",
    "Note: When we define variables inside a function, these variables are only accessible within that function itself. These variables are referred to as `« local »` to the function. However, when variables are defined outside of the function in the main program body, they are called `« global »` variables. The content of a global variable is visible and accessible from within a function, but the function cannot modify the value of the variable.</span> </b></left>"
   ]
  },
  {
   "cell_type": "code",
   "execution_count": 20,
   "id": "1faf1961",
   "metadata": {},
   "outputs": [
    {
     "name": "stdout",
     "output_type": "stream",
     "text": [
      "2\n"
     ]
    }
   ],
   "source": [
    "n = 2\n",
    "def show_global():\n",
    "    print (n)\n",
    "\n",
    "show_global()"
   ]
  }
 ],
 "metadata": {
  "kernelspec": {
   "display_name": "Python 3",
   "language": "python",
   "name": "python3"
  },
  "language_info": {
   "codemirror_mode": {
    "name": "ipython",
    "version": 3
   },
   "file_extension": ".py",
   "mimetype": "text/x-python",
   "name": "python",
   "nbconvert_exporter": "python",
   "pygments_lexer": "ipython3",
   "version": "3.13.7"
  }
 },
 "nbformat": 4,
 "nbformat_minor": 5
}
