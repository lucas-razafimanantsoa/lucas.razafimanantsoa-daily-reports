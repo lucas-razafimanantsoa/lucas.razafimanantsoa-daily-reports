{
 "cells": [
  {
   "cell_type": "markdown",
   "id": "405f34ee",
   "metadata": {},
   "source": [
    "# Built-in methods for different variable types"
   ]
  },
  {
   "cell_type": "markdown",
   "id": "a7493f3e",
   "metadata": {},
   "source": [
    "## Use the `dir()` function to display a list of all the available method for a given variable or press `TAB`  "
   ]
  },
  {
   "cell_type": "code",
   "execution_count": 1,
   "id": "8525de3e",
   "metadata": {},
   "outputs": [
    {
     "name": "stdout",
     "output_type": "stream",
     "text": [
      "The type of the variable here is <class 'str'> \n",
      "\n",
      "=========================================\n",
      "\n",
      "Here are the different methods available : \n",
      "\n"
     ]
    },
    {
     "data": {
      "text/plain": [
       "['__add__',\n",
       " '__class__',\n",
       " '__contains__',\n",
       " '__delattr__',\n",
       " '__dir__',\n",
       " '__doc__',\n",
       " '__eq__',\n",
       " '__format__',\n",
       " '__ge__',\n",
       " '__getattribute__',\n",
       " '__getitem__',\n",
       " '__getnewargs__',\n",
       " '__getstate__',\n",
       " '__gt__',\n",
       " '__hash__',\n",
       " '__init__',\n",
       " '__init_subclass__',\n",
       " '__iter__',\n",
       " '__le__',\n",
       " '__len__',\n",
       " '__lt__',\n",
       " '__mod__',\n",
       " '__mul__',\n",
       " '__ne__',\n",
       " '__new__',\n",
       " '__reduce__',\n",
       " '__reduce_ex__',\n",
       " '__repr__',\n",
       " '__rmod__',\n",
       " '__rmul__',\n",
       " '__setattr__',\n",
       " '__sizeof__',\n",
       " '__str__',\n",
       " '__subclasshook__',\n",
       " 'capitalize',\n",
       " 'casefold',\n",
       " 'center',\n",
       " 'count',\n",
       " 'encode',\n",
       " 'endswith',\n",
       " 'expandtabs',\n",
       " 'find',\n",
       " 'format',\n",
       " 'format_map',\n",
       " 'index',\n",
       " 'isalnum',\n",
       " 'isalpha',\n",
       " 'isascii',\n",
       " 'isdecimal',\n",
       " 'isdigit',\n",
       " 'isidentifier',\n",
       " 'islower',\n",
       " 'isnumeric',\n",
       " 'isprintable',\n",
       " 'isspace',\n",
       " 'istitle',\n",
       " 'isupper',\n",
       " 'join',\n",
       " 'ljust',\n",
       " 'lower',\n",
       " 'lstrip',\n",
       " 'maketrans',\n",
       " 'partition',\n",
       " 'removeprefix',\n",
       " 'removesuffix',\n",
       " 'replace',\n",
       " 'rfind',\n",
       " 'rindex',\n",
       " 'rjust',\n",
       " 'rpartition',\n",
       " 'rsplit',\n",
       " 'rstrip',\n",
       " 'split',\n",
       " 'splitlines',\n",
       " 'startswith',\n",
       " 'strip',\n",
       " 'swapcase',\n",
       " 'title',\n",
       " 'translate',\n",
       " 'upper',\n",
       " 'zfill']"
      ]
     },
     "execution_count": 1,
     "metadata": {},
     "output_type": "execute_result"
    }
   ],
   "source": [
    "my_variable = \"Hello\"\n",
    "print (f\"The type of the variable here is {type(my_variable)} \\n\")\n",
    "print (\"=========================================\\n\")\n",
    "print (\"Here are the different methods available : \\n\")\n",
    "dir(my_variable)\n"
   ]
  },
  {
   "cell_type": "code",
   "execution_count": 2,
   "id": "d7160bb7",
   "metadata": {},
   "outputs": [
    {
     "name": "stdout",
     "output_type": "stream",
     "text": [
      "Help on built-in function upper:\n",
      "\n",
      "upper() method of builtins.str instance\n",
      "    Return a copy of the string converted to uppercase.\n",
      "\n"
     ]
    }
   ],
   "source": [
    "help (my_variable.upper)"
   ]
  },
  {
   "cell_type": "code",
   "execution_count": 3,
   "id": "cec24ef0",
   "metadata": {},
   "outputs": [
    {
     "name": "stdout",
     "output_type": "stream",
     "text": [
      "HELLO\n"
     ]
    }
   ],
   "source": [
    "into_uppercase = my_variable.upper()\n",
    "print (into_uppercase)"
   ]
  },
  {
   "cell_type": "code",
   "execution_count": 4,
   "id": "19772eaf",
   "metadata": {},
   "outputs": [
    {
     "name": "stdout",
     "output_type": "stream",
     "text": [
      "Help on built-in function rfind:\n",
      "\n",
      "rfind(sub[, start[, end]], /) method of builtins.str instance\n",
      "    Return the highest index in S where substring sub is found, such that sub is contained within S[start:end].\n",
      "\n",
      "    Optional arguments start and end are interpreted as in slice notation.\n",
      "    Return -1 on failure.\n",
      "\n"
     ]
    }
   ],
   "source": [
    "help (my_variable.rfind)"
   ]
  },
  {
   "cell_type": "code",
   "execution_count": 5,
   "id": "a8bd1430",
   "metadata": {},
   "outputs": [
    {
     "data": {
      "text/plain": [
       "3"
      ]
     },
     "execution_count": 5,
     "metadata": {},
     "output_type": "execute_result"
    }
   ],
   "source": [
    "my_variable.rfind(\"l\")"
   ]
  },
  {
   "cell_type": "markdown",
   "id": "269ebeb1",
   "metadata": {},
   "source": [
    "This returned `3` because the highest index where a character `l` is the index `3` (even though there is a `l` at index `2`)"
   ]
  },
  {
   "cell_type": "code",
   "execution_count": 6,
   "id": "246b0024",
   "metadata": {},
   "outputs": [
    {
     "name": "stdout",
     "output_type": "stream",
     "text": [
      "Help on built-in function startswith:\n",
      "\n",
      "startswith(prefix[, start[, end]], /) method of builtins.str instance\n",
      "    Return True if the string starts with the specified prefix, False otherwise.\n",
      "\n",
      "    prefix\n",
      "      A string or a tuple of strings to try.\n",
      "    start\n",
      "      Optional start position. Default: start of the string.\n",
      "    end\n",
      "      Optional stop position. Default: end of the string.\n",
      "\n"
     ]
    }
   ],
   "source": [
    "help (my_variable.startswith)"
   ]
  },
  {
   "cell_type": "code",
   "execution_count": 8,
   "id": "b69d06b6",
   "metadata": {},
   "outputs": [
    {
     "data": {
      "text/plain": [
       "False"
      ]
     },
     "execution_count": 8,
     "metadata": {},
     "output_type": "execute_result"
    }
   ],
   "source": [
    "my_variable.startswith (\"Her\")"
   ]
  },
  {
   "cell_type": "markdown",
   "id": "1c0fa48e",
   "metadata": {},
   "source": [
    "# Users' input manipulation : "
   ]
  },
  {
   "cell_type": "markdown",
   "id": "66c74744",
   "metadata": {},
   "source": [
    "## Use the `input` function.\n",
    "<strong> <u> Remark </u> </strong> : The `input` function always return a `str` variable type"
   ]
  },
  {
   "cell_type": "code",
   "execution_count": 9,
   "id": "0a194ec3",
   "metadata": {},
   "outputs": [
    {
     "name": "stdout",
     "output_type": "stream",
     "text": [
      "Lucas\n"
     ]
    }
   ],
   "source": [
    "name  = input (\"Enter your name : \")\n",
    "print (name)"
   ]
  },
  {
   "cell_type": "code",
   "execution_count": null,
   "id": "c8c68c41",
   "metadata": {},
   "outputs": [
    {
     "name": "stdout",
     "output_type": "stream",
     "text": [
      "23 <class 'str'>\n"
     ]
    }
   ],
   "source": [
    "age = input (\"Enter your age : \")\n",
    "print (age , type(age))"
   ]
  },
  {
   "cell_type": "markdown",
   "id": "cfd961d6",
   "metadata": {},
   "source": [
    "To get an integer or a float, we have to convert the input into the wanted type : "
   ]
  },
  {
   "cell_type": "code",
   "execution_count": 11,
   "id": "a7bfeafb",
   "metadata": {},
   "outputs": [
    {
     "name": "stdout",
     "output_type": "stream",
     "text": [
      "23 <class 'int'>\n"
     ]
    }
   ],
   "source": [
    "age = int(input (\"Enter your age : \"))\n",
    "print (age , type(age))"
   ]
  },
  {
   "cell_type": "markdown",
   "id": "0f9029eb",
   "metadata": {},
   "source": [
    "## It is possible to \"evaluate\" a <strong>valid</strong> mathematical expression (e.g : 3/4*8) directly inputed by the user using the `eval()` function "
   ]
  },
  {
   "cell_type": "markdown",
   "id": "4e2aa4e5",
   "metadata": {},
   "source": [
    "### The `eval` function is used to calculate a mathematical expression in a string if it is a valid syntax of operations in Python (or an already declared variable)\n",
    "\n",
    "It outputs directly the wanted type "
   ]
  },
  {
   "cell_type": "code",
   "execution_count": 22,
   "id": "6b3b301b",
   "metadata": {},
   "outputs": [
    {
     "name": "stdout",
     "output_type": "stream",
     "text": [
      "8.857142857142858\n",
      "<class 'float'>\n"
     ]
    }
   ],
   "source": [
    "my_eval = eval (\"2*4 + 6/7\")\n",
    "print (my_eval)\n",
    "print (type(my_eval))"
   ]
  },
  {
   "cell_type": "code",
   "execution_count": 23,
   "id": "41ca94c8",
   "metadata": {},
   "outputs": [
    {
     "name": "stdout",
     "output_type": "stream",
     "text": [
      "8.857142857142858 <class 'float'>\n"
     ]
    }
   ],
   "source": [
    "to_evaluate = eval(input (\"Enter a valid mathematical expression :\"))\n",
    "print (to_evaluate, type(to_evaluate))\n"
   ]
  },
  {
   "cell_type": "markdown",
   "id": "de992fe6",
   "metadata": {},
   "source": [
    "# An Exercise on swapping variables : "
   ]
  },
  {
   "cell_type": "markdown",
   "id": "136f6351",
   "metadata": {},
   "source": [
    "### The classical python method :"
   ]
  },
  {
   "cell_type": "code",
   "execution_count": 25,
   "id": "f02dd2bf",
   "metadata": {},
   "outputs": [
    {
     "name": "stdout",
     "output_type": "stream",
     "text": [
      "x = 1 and y = 3\n",
      "after the swap :\n",
      "x = 3 and y = 1\n"
     ]
    }
   ],
   "source": [
    "x = 1\n",
    "y = 3\n",
    "print (f\"x = {x} and y = {y}\")\n",
    "x,y = y,x\n",
    "print (\"after the swap :\")\n",
    "print (f\"x = {x} and y = {y}\")"
   ]
  },
  {
   "cell_type": "markdown",
   "id": "938c76aa",
   "metadata": {},
   "source": [
    "### Using a temporary variable : "
   ]
  },
  {
   "cell_type": "code",
   "execution_count": 26,
   "id": "64947f6d",
   "metadata": {},
   "outputs": [
    {
     "name": "stdout",
     "output_type": "stream",
     "text": [
      "x = 1 and y = 3\n",
      "after the swap :\n",
      "x = 3 and y = 1\n"
     ]
    }
   ],
   "source": [
    "x = 1\n",
    "y = 3\n",
    "print (f\"x = {x} and y = {y}\")\n",
    "tmp = x\n",
    "x = y\n",
    "y = tmp\n",
    "print (\"after the swap :\")\n",
    "print (f\"x = {x} and y = {y}\")"
   ]
  },
  {
   "cell_type": "markdown",
   "id": "71c3e68c",
   "metadata": {},
   "source": [
    "### Using algebraic operations : "
   ]
  },
  {
   "cell_type": "code",
   "execution_count": null,
   "id": "62755784",
   "metadata": {},
   "outputs": [
    {
     "name": "stdout",
     "output_type": "stream",
     "text": [
      "x = 1 and y = 3\n",
      "after the swap :\n",
      "x = 3 and y = 1\n"
     ]
    }
   ],
   "source": [
    "x = 1\n",
    "y = 3\n",
    "print (f\"x = {x} and y = {y}\")\n",
    "x = x + y\n",
    "y = x - y \n",
    "x = x - y\n",
    "print (\"after the swap :\")\n",
    "print (f\"x = {x} and y = {y}\")"
   ]
  },
  {
   "cell_type": "code",
   "execution_count": null,
   "id": "5323f0f2",
   "metadata": {},
   "outputs": [],
   "source": []
  }
 ],
 "metadata": {
  "kernelspec": {
   "display_name": "Python 3",
   "language": "python",
   "name": "python3"
  },
  "language_info": {
   "codemirror_mode": {
    "name": "ipython",
    "version": 3
   },
   "file_extension": ".py",
   "mimetype": "text/x-python",
   "name": "python",
   "nbconvert_exporter": "python",
   "pygments_lexer": "ipython3",
   "version": "3.13.7"
  }
 },
 "nbformat": 4,
 "nbformat_minor": 5
}
