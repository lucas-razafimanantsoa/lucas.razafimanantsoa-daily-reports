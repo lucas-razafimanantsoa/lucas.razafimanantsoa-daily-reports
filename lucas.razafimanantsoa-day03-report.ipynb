{
 "cells": [
  {
   "cell_type": "markdown",
   "id": "91d35996",
   "metadata": {},
   "source": [
    "## Strings and files."
   ]
  },
  {
   "cell_type": "code",
   "execution_count": 1,
   "id": "56e9e407",
   "metadata": {},
   "outputs": [],
   "source": [
    "string_1 = \"Will you be at the meeting tonight ?\"\n",
    "\n",
    "string_2 = '\"Yes\", he replies.'"
   ]
  },
  {
   "cell_type": "code",
   "execution_count": 2,
   "id": "d0188736",
   "metadata": {},
   "outputs": [
    {
     "name": "stdout",
     "output_type": "stream",
     "text": [
      "Will you be at the meeting tonight ?\n"
     ]
    }
   ],
   "source": [
    "print (string_1)"
   ]
  },
  {
   "cell_type": "code",
   "execution_count": 3,
   "id": "47fdc227",
   "metadata": {},
   "outputs": [
    {
     "name": "stdout",
     "output_type": "stream",
     "text": [
      "\"Yes\", he replies.\n"
     ]
    }
   ],
   "source": [
    "print (string_2)"
   ]
  },
  {
   "cell_type": "markdown",
   "id": "39d2f4b4",
   "metadata": {},
   "source": [
    "### Indexing :"
   ]
  },
  {
   "cell_type": "code",
   "execution_count": 4,
   "id": "f1c07ce7",
   "metadata": {},
   "outputs": [
    {
     "data": {
      "text/plain": [
       "'W'"
      ]
     },
     "execution_count": 4,
     "metadata": {},
     "output_type": "execute_result"
    }
   ],
   "source": [
    "string_1[0]"
   ]
  },
  {
   "cell_type": "code",
   "execution_count": 5,
   "id": "5d94cc1a",
   "metadata": {},
   "outputs": [
    {
     "data": {
      "text/plain": [
       "'l'"
      ]
     },
     "execution_count": 5,
     "metadata": {},
     "output_type": "execute_result"
    }
   ],
   "source": [
    "string_1[2]"
   ]
  },
  {
   "cell_type": "code",
   "execution_count": 6,
   "id": "dbd824e7",
   "metadata": {},
   "outputs": [
    {
     "name": "stdout",
     "output_type": "stream",
     "text": [
      "Will you be at the meeting tonight ?\n",
      "The second character of my string is : '?'\n"
     ]
    }
   ],
   "source": [
    "print(string_1)\n",
    "print (f\"The second character of my string is : '{string_1[-1]}'\")"
   ]
  },
  {
   "cell_type": "markdown",
   "id": "d5ad3f63",
   "metadata": {},
   "source": [
    "### Slicing\n",
    "```python\n",
    "string[start:stop:step]\n",
    "```"
   ]
  },
  {
   "cell_type": "code",
   "execution_count": 7,
   "id": "d1ee7614",
   "metadata": {},
   "outputs": [
    {
     "name": "stdout",
     "output_type": "stream",
     "text": [
      "Will you be at the meeting tonight ?\n"
     ]
    },
    {
     "data": {
      "text/plain": [
       "'l o'"
      ]
     },
     "execution_count": 7,
     "metadata": {},
     "output_type": "execute_result"
    }
   ],
   "source": [
    "print (string_1)\n",
    "string_1[2:8:2]"
   ]
  },
  {
   "cell_type": "code",
   "execution_count": 8,
   "id": "0c5918b4",
   "metadata": {},
   "outputs": [
    {
     "name": "stdout",
     "output_type": "stream",
     "text": [
      "\"Yes\", he replies.\n"
     ]
    },
    {
     "data": {
      "text/plain": [
       "18"
      ]
     },
     "execution_count": 8,
     "metadata": {},
     "output_type": "execute_result"
    }
   ],
   "source": [
    "print(string_2)\n",
    "len (string_2)"
   ]
  },
  {
   "cell_type": "markdown",
   "id": "c258507d",
   "metadata": {},
   "source": [
    "### Concatenation"
   ]
  },
  {
   "cell_type": "code",
   "execution_count": 9,
   "id": "b5b421d6",
   "metadata": {},
   "outputs": [
    {
     "name": "stdout",
     "output_type": "stream",
     "text": [
      "Hello, World\n"
     ]
    }
   ],
   "source": [
    "my_var1, my_var2= \"Hello, \", \"World\"\n",
    "concat = my_var1 + my_var2\n",
    "print (concat)"
   ]
  },
  {
   "cell_type": "code",
   "execution_count": 10,
   "id": "354d9b43",
   "metadata": {},
   "outputs": [
    {
     "name": "stdout",
     "output_type": "stream",
     "text": [
      "World\n",
      "WorldWorld\n"
     ]
    }
   ],
   "source": [
    "print(my_var2)\n",
    "print (2*my_var2)"
   ]
  },
  {
   "cell_type": "code",
   "execution_count": 21,
   "id": "3d92b529",
   "metadata": {},
   "outputs": [
    {
     "name": "stdout",
     "output_type": "stream",
     "text": [
      "\u001b[31mSignature:\u001b[39m a_variable.casefold()\n",
      "\u001b[31mDocstring:\u001b[39m Return a version of the string suitable for caseless comparisons.\n",
      "\u001b[31mType:\u001b[39m      builtin_function_or_method"
     ]
    }
   ],
   "source": [
    "a_variable = \"a sTriNg 123 \"\n",
    "?a_variable.casefold"
   ]
  },
  {
   "cell_type": "code",
   "execution_count": 22,
   "id": "9f2127b5",
   "metadata": {},
   "outputs": [
    {
     "data": {
      "text/plain": [
       "'a string 123 '"
      ]
     },
     "execution_count": 22,
     "metadata": {},
     "output_type": "execute_result"
    }
   ],
   "source": [
    "a_variable.casefold()"
   ]
  },
  {
   "cell_type": "code",
   "execution_count": 13,
   "id": "ae71c3b3",
   "metadata": {},
   "outputs": [
    {
     "data": {
      "text/plain": [
       "True"
      ]
     },
     "execution_count": 13,
     "metadata": {},
     "output_type": "execute_result"
    }
   ],
   "source": [
    "a_variable = \"Hello\"\n",
    "a_variable.isalnum() # only alpha numeric"
   ]
  },
  {
   "cell_type": "code",
   "execution_count": 14,
   "id": "81d243ba",
   "metadata": {},
   "outputs": [
    {
     "data": {
      "text/plain": [
       "'a sentence with start and end chars to remove'"
      ]
     },
     "execution_count": 14,
     "metadata": {},
     "output_type": "execute_result"
    }
   ],
   "source": [
    "a_variable = \"_-a sentence with start and end chars to remove_\"\n",
    "a_variable.strip(\"_-\")"
   ]
  },
  {
   "cell_type": "code",
   "execution_count": 15,
   "id": "aacd4952",
   "metadata": {},
   "outputs": [
    {
     "name": "stdout",
     "output_type": "stream",
     "text": [
      "\u001b[31mSignature:\u001b[39m a_variable.ljust(width, fillchar=\u001b[33m' '\u001b[39m, /)\n",
      "\u001b[31mDocstring:\u001b[39m\n",
      "Return a left-justified string of length width.\n",
      "\n",
      "Padding is done using the specified fill character (default is a space).\n",
      "\u001b[31mType:\u001b[39m      builtin_function_or_method"
     ]
    }
   ],
   "source": [
    "?a_variable.ljust"
   ]
  },
  {
   "cell_type": "code",
   "execution_count": 16,
   "id": "3a06ac8c",
   "metadata": {},
   "outputs": [
    {
     "data": {
      "text/plain": [
       "'--Hello--'"
      ]
     },
     "execution_count": 16,
     "metadata": {},
     "output_type": "execute_result"
    }
   ],
   "source": [
    "((\"Hello\").ljust(7,'-')).rjust(9,'-')"
   ]
  },
  {
   "cell_type": "code",
   "execution_count": 18,
   "id": "a2c9a873",
   "metadata": {},
   "outputs": [
    {
     "data": {
      "text/plain": [
       "'Lowercase sentence'"
      ]
     },
     "execution_count": 18,
     "metadata": {},
     "output_type": "execute_result"
    }
   ],
   "source": [
    "lower = \"lowercase sentence\"\n",
    "lower.capitalize()"
   ]
  },
  {
   "cell_type": "code",
   "execution_count": 13,
   "id": "3bf73dfb",
   "metadata": {},
   "outputs": [
    {
     "name": "stdout",
     "output_type": "stream",
     "text": [
      "['I', 'want', 'to', 'count', ';', 'the', 'words', 'in', 'this', 'sentence']\n"
     ]
    },
    {
     "data": {
      "text/plain": [
       "9"
      ]
     },
     "execution_count": 13,
     "metadata": {},
     "output_type": "execute_result"
    }
   ],
   "source": [
    "sentence = \"I want to count ; the words in this sentence\"\n",
    "words = sentence.rsplit(' ')\n",
    "print (words)\n",
    "words.remove(';') #removing punctuations\n",
    "len (words)"
   ]
  },
  {
   "cell_type": "markdown",
   "id": "d728ef54",
   "metadata": {},
   "source": [
    "### Reading an existing `txt` file"
   ]
  },
  {
   "cell_type": "code",
   "execution_count": null,
   "id": "6e2ed85e",
   "metadata": {},
   "outputs": [],
   "source": [
    "file = open(\"testfile.txt\", 'r') # read a file"
   ]
  },
  {
   "cell_type": "code",
   "execution_count": 27,
   "id": "67d04e8e",
   "metadata": {},
   "outputs": [
    {
     "data": {
      "text/plain": [
       "_io.TextIOWrapper"
      ]
     },
     "execution_count": 27,
     "metadata": {},
     "output_type": "execute_result"
    }
   ],
   "source": [
    "type(file)"
   ]
  },
  {
   "cell_type": "code",
   "execution_count": 28,
   "id": "c36cce5b",
   "metadata": {},
   "outputs": [
    {
     "data": {
      "text/plain": [
       "['jhasjah\\n', 'aims class\\n', 'Rwanda 2025\\n', 'this is really cool']"
      ]
     },
     "execution_count": 28,
     "metadata": {},
     "output_type": "execute_result"
    }
   ],
   "source": [
    "file.readlines()"
   ]
  },
  {
   "cell_type": "markdown",
   "id": "257222f8",
   "metadata": {},
   "source": [
    "### Creating a new file or overwrites an existing file"
   ]
  },
  {
   "cell_type": "code",
   "execution_count": 34,
   "id": "a535550d",
   "metadata": {},
   "outputs": [],
   "source": [
    "created = open (\"newfile.txt\", 'w')\n",
    "created.write(\"This was created in jupyter\")\n",
    "created.close()"
   ]
  }
 ],
 "metadata": {
  "kernelspec": {
   "display_name": "Python 3",
   "language": "python",
   "name": "python3"
  },
  "language_info": {
   "codemirror_mode": {
    "name": "ipython",
    "version": 3
   },
   "file_extension": ".py",
   "mimetype": "text/x-python",
   "name": "python",
   "nbconvert_exporter": "python",
   "pygments_lexer": "ipython3",
   "version": "3.13.7"
  }
 },
 "nbformat": 4,
 "nbformat_minor": 5
}
