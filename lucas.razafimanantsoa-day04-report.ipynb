{
 "cells": [
  {
   "cell_type": "markdown",
   "id": "7527f4ea",
   "metadata": {},
   "source": [
    "# Local version control using `git`"
   ]
  },
  {
   "cell_type": "markdown",
   "id": "4c7dc799",
   "metadata": {},
   "source": [
    "## 1 - Configuration :\n",
    "\n",
    "Configure the `git` profile using the `git config` command :\n",
    "\n",
    "```bash\n",
    "git config --global user.name \"UserName\"\n",
    "git config --global user.email \"emailAdress\"\n",
    "```"
   ]
  },
  {
   "cell_type": "markdown",
   "id": "fa5a3ee9",
   "metadata": {},
   "source": [
    "## 2 - Navigate to the project directory \n",
    "\n",
    "## 3 - Begin to track the project :\n",
    "\n",
    "```bash\n",
    "git init\n",
    "```\n"
   ]
  },
  {
   "cell_type": "markdown",
   "id": "5dba2f8e",
   "metadata": {},
   "source": [
    "## 4 - Change the description of the repository (the project) : \n",
    "\n",
    "```bash\n",
    "ls -a # should show a directory named .git\n",
    "cd .git \n",
    "ls -a # should show a non-empty file named 'description'\n",
    "nano description \n",
    "cd .. # go back to the main branch \n",
    "```"
   ]
  },
  {
   "cell_type": "markdown",
   "id": "cabd4a65",
   "metadata": {},
   "source": [
    "## 5 - Select the files to track :\n",
    "\n",
    "```bash\n",
    "git add <filename>\n",
    "# git add . to track all files\n",
    "```"
   ]
  },
  {
   "cell_type": "markdown",
   "id": "e4f399c4",
   "metadata": {},
   "source": [
    "## 6 - Check the status of the version control (to do often) :\n",
    "\n",
    "```bash\n",
    "git status # should show the details of modifications done to the project (added, modified, deleted)\n",
    "```"
   ]
  },
  {
   "cell_type": "markdown",
   "id": "a0b84e3d",
   "metadata": {},
   "source": [
    "## 7 - Commit the modifications and record that 'version' in the `log` : \n",
    "\n",
    "```bash\n",
    "git commit -am \"Message to describe the modification you made\" # make the commit message as clear as possible\n",
    "git log # checks all commits done to the repo\n",
    "```"
   ]
  },
  {
   "cell_type": "markdown",
   "id": "a3f54290",
   "metadata": {},
   "source": [
    "## 8 - Reverting a commit\n",
    "\n",
    "The `revert` command is used to \"undo\" a commit. To do so :\n",
    "- check the list of commits using `git log`\n",
    "- copy the hash of the commit you want to undo\n",
    "- run : \n",
    "```bash\n",
    "git revert <hash>\n",
    "```\n",
    "\n",
    "If a conflict error occurs during the revert, it is safer to stop that process : \n",
    "\n",
    "```bash\n",
    "git revert --skip\n",
    "```"
   ]
  }
 ],
 "metadata": {
  "kernelspec": {
   "display_name": "Python 3",
   "language": "python",
   "name": "python3"
  },
  "language_info": {
   "name": "python",
   "version": "3.13.7"
  }
 },
 "nbformat": 4,
 "nbformat_minor": 5
}
