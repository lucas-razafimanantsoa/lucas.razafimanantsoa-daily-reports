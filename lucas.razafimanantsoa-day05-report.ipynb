{
 "cells": [
  {
   "cell_type": "markdown",
   "id": "c295e971",
   "metadata": {},
   "source": [
    "<center><strong>AIMS Rwanda</strong>"
   ]
  },
  {
   "cell_type": "markdown",
   "id": "8072bf12",
   "metadata": {},
   "source": [
    "# Containers"
   ]
  },
  {
   "cell_type": "markdown",
   "id": "80caaa60",
   "metadata": {},
   "source": [
    "## Lists"
   ]
  },
  {
   "cell_type": "markdown",
   "id": "1a786384",
   "metadata": {},
   "source": [
    "### Definition : \n",
    "- <u> Simple lists </u> : (one-dimensional lists)\n",
    "\n",
    "Whose elements consists of unique values separated by commas : "
   ]
  },
  {
   "cell_type": "code",
   "execution_count": 11,
   "id": "24069ef9",
   "metadata": {},
   "outputs": [
    {
     "data": {
      "text/plain": [
       "[23, 29, 7, 9, 0]"
      ]
     },
     "execution_count": 11,
     "metadata": {},
     "output_type": "execute_result"
    }
   ],
   "source": [
    "my_list = [23,29,7,9,0]\n",
    "my_list"
   ]
  },
  {
   "cell_type": "code",
   "execution_count": 12,
   "id": "23d0d88c",
   "metadata": {},
   "outputs": [
    {
     "data": {
      "text/plain": [
       "list"
      ]
     },
     "execution_count": 12,
     "metadata": {},
     "output_type": "execute_result"
    }
   ],
   "source": [
    "type (my_list)"
   ]
  },
  {
   "cell_type": "markdown",
   "id": "ddd720c6",
   "metadata": {},
   "source": [
    "- <u>Multidimensional lists </u> : \n",
    "\n",
    "A list where the individual elements consists of multiple values. In general, a multidimensional list is presented as a <i>list of lists</i>"
   ]
  },
  {
   "cell_type": "code",
   "execution_count": 10,
   "id": "acb663c2",
   "metadata": {},
   "outputs": [
    {
     "name": "stdout",
     "output_type": "stream",
     "text": [
      "[[1, 2, 3], [2, 3, 4], [3, 4, 5]]\n",
      "[[[1, 2], [2, 3]], [[4, 5], [5, 6]]]\n"
     ]
    }
   ],
   "source": [
    "x = [[1,2,3],[2,3,4],[3,4,5]] # 2D list\n",
    "\n",
    "y = [[[1,2],[2,3]],[[4,5],[5,6]]] # 3D list\n",
    "\n",
    "print(x)\n",
    "print(y)\n",
    "\n"
   ]
  },
  {
   "cell_type": "markdown",
   "id": "c89061b2",
   "metadata": {},
   "source": [
    "A list is a sequence of indexed values \n",
    "\n",
    " $\\Rightarrow$ it is possible to access each value by specifying their index : "
   ]
  },
  {
   "cell_type": "code",
   "execution_count": 19,
   "id": "40e00613",
   "metadata": {},
   "outputs": [
    {
     "name": "stdout",
     "output_type": "stream",
     "text": [
      "['Monday', 'September', 12, 1800, 2.14, 'Thursday', 'friday']\n"
     ]
    }
   ],
   "source": [
    "z = list (('Monday', 'September', 12, 1800, 2.14, 'Thursday', 'friday'))\n",
    "print (z)"
   ]
  },
  {
   "cell_type": "code",
   "execution_count": 25,
   "id": "2a060727",
   "metadata": {},
   "outputs": [
    {
     "name": "stdout",
     "output_type": "stream",
     "text": [
      "Monday\n",
      "September\n",
      "friday\n",
      "Thursday\n",
      "['September', 12, 1800, 2.14]\n",
      "['Monday', 12, 2.14, 'friday']\n",
      "['friday', 'Thursday', 2.14, 1800, 12, 'September', 'Monday']\n"
     ]
    }
   ],
   "source": [
    "print (z[0]) # first element\n",
    "\n",
    "print (z[1]) # second element\n",
    "\n",
    "print (z[-1]) # last element\n",
    "\n",
    "print (z[-2]) # second from last\n",
    "\n",
    "print (z[1:-2:]) # from : to : by\n",
    "\n",
    "print (z[::2]) # \"to\" is exclusive, no argument if we want all elements\n",
    "\n",
    "print (z[::-1]) # from the last element to the first"
   ]
  },
  {
   "cell_type": "markdown",
   "id": "38ccc503",
   "metadata": {},
   "source": [
    "### The `range()` function :\n",
    "\n",
    "Creates a sequence : `range (start,stop,step)`\n",
    "\n",
    "By default, start is `0`"
   ]
  },
  {
   "cell_type": "code",
   "execution_count": 11,
   "id": "9bd8686d",
   "metadata": {},
   "outputs": [
    {
     "name": "stdout",
     "output_type": "stream",
     "text": [
      "[0, 1, 2, 3, 4, 5, 6, 7, 8, 9]\n",
      "[1, 4, 7, 10, 13, 16, 19]\n"
     ]
    }
   ],
   "source": [
    "seq1 = list(range(10))\n",
    "seq2 = list(range (1,20,3))\n",
    "print (seq1)\n",
    "print(seq2)"
   ]
  },
  {
   "cell_type": "markdown",
   "id": "26a89264",
   "metadata": {},
   "source": [
    "### Operations on lists : "
   ]
  },
  {
   "cell_type": "markdown",
   "id": "a0f15cce",
   "metadata": {},
   "source": [
    "#### - Length : `len()`"
   ]
  },
  {
   "cell_type": "code",
   "execution_count": 33,
   "id": "83ec9bcd",
   "metadata": {},
   "outputs": [
    {
     "data": {
      "text/plain": [
       "10"
      ]
     },
     "execution_count": 33,
     "metadata": {},
     "output_type": "execute_result"
    }
   ],
   "source": [
    "len(seq1)"
   ]
  },
  {
   "cell_type": "markdown",
   "id": "d750ba2f",
   "metadata": {},
   "source": [
    "#### - Sorting method : `my_list.sort()` \n",
    "\n",
    "Be careful, this methods changes the variable !!"
   ]
  },
  {
   "cell_type": "code",
   "execution_count": 42,
   "id": "edc2733d",
   "metadata": {},
   "outputs": [
    {
     "data": {
      "text/plain": [
       "([1, 2, 3, 4, 7, 8, 14, 167], ['d', 'c', 'b', 'a'])"
      ]
     },
     "execution_count": 42,
     "metadata": {},
     "output_type": "execute_result"
    }
   ],
   "source": [
    "x = [1,8,4,7,3,14,167,2]\n",
    "x.sort()\n",
    "y = [\"a\", \"b\", \"c\", \"d\"]\n",
    "y.sort(reverse=True)\n",
    "x ,y\n"
   ]
  },
  {
   "cell_type": "code",
   "execution_count": 60,
   "id": "a50e5e06",
   "metadata": {},
   "outputs": [
    {
     "data": {
      "text/plain": [
       "[-7, 1, 14, 167, 2, 3, 4, 7, 8]"
      ]
     },
     "execution_count": 60,
     "metadata": {},
     "output_type": "execute_result"
    }
   ],
   "source": [
    "\n",
    "x = [1,8,4,7,3,14,167,2, 9-16]\n",
    "x.sort(key=str)\n",
    "x\n"
   ]
  },
  {
   "cell_type": "markdown",
   "id": "969e1139",
   "metadata": {},
   "source": [
    "#### - Concatenation : `+`"
   ]
  },
  {
   "cell_type": "markdown",
   "id": "84c0a66d",
   "metadata": {},
   "source": [
    "####"
   ]
  },
  {
   "cell_type": "code",
   "execution_count": 61,
   "id": "13d0099b",
   "metadata": {},
   "outputs": [
    {
     "data": {
      "text/plain": [
       "[-7, 1, 14, 167, 2, 3, 4, 7, 8, 'd', 'c', 'b', 'a']"
      ]
     },
     "execution_count": 61,
     "metadata": {},
     "output_type": "execute_result"
    }
   ],
   "source": [
    "x+y"
   ]
  },
  {
   "cell_type": "markdown",
   "id": "1ba587fc",
   "metadata": {},
   "source": [
    "#### - Adding elements : `append` ; `extend`"
   ]
  },
  {
   "cell_type": "code",
   "execution_count": 66,
   "id": "37175868",
   "metadata": {},
   "outputs": [
    {
     "data": {
      "text/plain": [
       "[1, 8, 4, 7, 3, 14, 167, 2, 9, 69]"
      ]
     },
     "execution_count": 66,
     "metadata": {},
     "output_type": "execute_result"
    }
   ],
   "source": [
    "x = [1,8,4,7,3,14,167,2, 9]\n",
    "x.append(69) # for one element\n",
    "x"
   ]
  },
  {
   "cell_type": "code",
   "execution_count": 67,
   "id": "28655000",
   "metadata": {},
   "outputs": [
    {
     "data": {
      "text/plain": [
       "[1, 8, 4, 7, 3, 14, 167, 2, 9, 69, 3, 42, 90]"
      ]
     },
     "execution_count": 67,
     "metadata": {},
     "output_type": "execute_result"
    }
   ],
   "source": [
    "x.extend([3,42,90]) # for multiple elements\n",
    "x"
   ]
  },
  {
   "cell_type": "markdown",
   "id": "8ba708de",
   "metadata": {},
   "source": [
    "We can make valid operations directly within the elements of the lists by indexing them : "
   ]
  },
  {
   "cell_type": "code",
   "execution_count": 68,
   "id": "4bf8aaa5",
   "metadata": {},
   "outputs": [
    {
     "data": {
      "text/plain": [
       "['d', 'c', 'bbla bla', 'a']"
      ]
     },
     "execution_count": 68,
     "metadata": {},
     "output_type": "execute_result"
    }
   ],
   "source": [
    "y[2] = y[2]+\"bla bla\"\n",
    "y"
   ]
  },
  {
   "cell_type": "markdown",
   "id": "c27fea59",
   "metadata": {},
   "source": [
    " - The `insert()` method : "
   ]
  },
  {
   "cell_type": "markdown",
   "id": "7215f953",
   "metadata": {},
   "source": [
    "Insert a value before the index specified"
   ]
  },
  {
   "cell_type": "code",
   "execution_count": 2,
   "id": "e272a8d6",
   "metadata": {},
   "outputs": [
    {
     "data": {
      "text/plain": [
       "['Mirija', 'Tsial', 'Kenny', 'Paul']"
      ]
     },
     "execution_count": 2,
     "metadata": {},
     "output_type": "execute_result"
    }
   ],
   "source": [
    "my_list = [\"Mirija\", \"Kenny\", \"Paul\"]\n",
    "my_list.insert(1, \"Tsial\") # insert Tsial before Kenny\n",
    "my_list\n"
   ]
  },
  {
   "cell_type": "markdown",
   "id": "7a1e78ae",
   "metadata": {},
   "source": [
    "- The `remove()` method : \n",
    "\n",
    "Remove the first occurence of the value in the list. Raises an error if the value is not in the list"
   ]
  },
  {
   "cell_type": "code",
   "execution_count": 3,
   "id": "9c2d2bd1",
   "metadata": {},
   "outputs": [
    {
     "data": {
      "text/plain": [
       "['Mirija', 'Kenny', 'Paul']"
      ]
     },
     "execution_count": 3,
     "metadata": {},
     "output_type": "execute_result"
    }
   ],
   "source": [
    "my_list.remove(\"Tsial\")\n",
    "my_list"
   ]
  },
  {
   "cell_type": "markdown",
   "id": "22c628f5",
   "metadata": {},
   "source": [
    "- The `index()` method : \n",
    "\n",
    "Returns the index of the first occurence of the value \n",
    "\n",
    "can specify the range of search : `index(value,start = , stop = )`"
   ]
  },
  {
   "cell_type": "code",
   "execution_count": 10,
   "id": "89ea856a",
   "metadata": {},
   "outputs": [
    {
     "data": {
      "text/plain": [
       "2"
      ]
     },
     "execution_count": 10,
     "metadata": {},
     "output_type": "execute_result"
    }
   ],
   "source": [
    "my_list.index(\"Paul\")"
   ]
  },
  {
   "cell_type": "markdown",
   "id": "ea26a645",
   "metadata": {},
   "source": [
    "- The `pop()` method : "
   ]
  },
  {
   "cell_type": "markdown",
   "id": "50932e6a",
   "metadata": {},
   "source": [
    "Removes and return the item at the given index (-1 by default)"
   ]
  },
  {
   "cell_type": "code",
   "execution_count": 13,
   "id": "ed676e0d",
   "metadata": {},
   "outputs": [
    {
     "data": {
      "text/plain": [
       "3"
      ]
     },
     "execution_count": 13,
     "metadata": {},
     "output_type": "execute_result"
    }
   ],
   "source": [
    "seq1.pop(3)"
   ]
  },
  {
   "cell_type": "code",
   "execution_count": 16,
   "id": "78767e5c",
   "metadata": {},
   "outputs": [
    {
     "name": "stdout",
     "output_type": "stream",
     "text": [
      "\u001b[31mSignature:\u001b[39m seq1.pop(index=-\u001b[32m1\u001b[39m, /)\n",
      "\u001b[31mDocstring:\u001b[39m\n",
      "Remove and return item at index (default last).\n",
      "\n",
      "Raises IndexError if list is empty or index is out of range.\n",
      "\u001b[31mType:\u001b[39m      builtin_function_or_method"
     ]
    }
   ],
   "source": [
    "?seq1.pop"
   ]
  },
  {
   "cell_type": "markdown",
   "id": "c027938a",
   "metadata": {},
   "source": [
    " - The `count()` method : \n",
    " \n",
    " Return number of occurrences of value."
   ]
  },
  {
   "cell_type": "code",
   "execution_count": 15,
   "id": "8c9f7e6a",
   "metadata": {},
   "outputs": [
    {
     "name": "stdout",
     "output_type": "stream",
     "text": [
      "\u001b[31mSignature:\u001b[39m seq2.count(value, /)\n",
      "\u001b[31mDocstring:\u001b[39m Return number of occurrences of value.\n",
      "\u001b[31mType:\u001b[39m      builtin_function_or_method"
     ]
    }
   ],
   "source": [
    "?seq2.count"
   ]
  },
  {
   "cell_type": "code",
   "execution_count": 1,
   "id": "7ddb4f7a",
   "metadata": {},
   "outputs": [
    {
     "data": {
      "text/plain": [
       "2"
      ]
     },
     "execution_count": 1,
     "metadata": {},
     "output_type": "execute_result"
    }
   ],
   "source": [
    "seq = [1,2,3,1,4,5,1,4,3]\n",
    "seq.count(3)"
   ]
  },
  {
   "cell_type": "markdown",
   "id": "032b3054",
   "metadata": {},
   "source": [
    "- The `zip` function\n",
    "\n",
    "combine multiple iterables"
   ]
  },
  {
   "cell_type": "code",
   "execution_count": 12,
   "id": "c6c236e2",
   "metadata": {},
   "outputs": [
    {
     "data": {
      "text/plain": [
       "[(1, 'a'), (2, 'b'), (3, 'c')]"
      ]
     },
     "execution_count": 12,
     "metadata": {},
     "output_type": "execute_result"
    }
   ],
   "source": [
    "list1 = [1,2,3]\n",
    "list2 = ['a','b','c']\n",
    "list(zip(list1,list2))\n",
    "\n"
   ]
  },
  {
   "cell_type": "markdown",
   "id": "5c9c1da3",
   "metadata": {},
   "source": [
    "- The `join()` method : \n",
    "\n",
    "takes a list (or any iterable) of strings and concatenates them into one string, inserting the chosen separator between each element."
   ]
  },
  {
   "cell_type": "code",
   "execution_count": 13,
   "id": "d7649838",
   "metadata": {},
   "outputs": [
    {
     "data": {
      "text/plain": [
       "'Learning Python is cool'"
      ]
     },
     "execution_count": 13,
     "metadata": {},
     "output_type": "execute_result"
    }
   ],
   "source": [
    "words = [\"Learning\", \"Python\", \"is\", \"cool\"]\n",
    "separator = \" \" # separate by a space\n",
    "separator.join(words)\n"
   ]
  }
 ],
 "metadata": {
  "kernelspec": {
   "display_name": "Python 3",
   "language": "python",
   "name": "python3"
  },
  "language_info": {
   "codemirror_mode": {
    "name": "ipython",
    "version": 3
   },
   "file_extension": ".py",
   "mimetype": "text/x-python",
   "name": "python",
   "nbconvert_exporter": "python",
   "pygments_lexer": "ipython3",
   "version": "3.13.7"
  }
 },
 "nbformat": 4,
 "nbformat_minor": 5
}
