{
 "cells": [
  {
   "cell_type": "markdown",
   "id": "9ef621bf",
   "metadata": {},
   "source": [
    "# <center> <b>AIMS Rwanda</b>\n",
    "## <center> <b> Lucas Mirija RAZAFIMANANTSOA </b>\n",
    "***\n",
    "***\n",
    "***"
   ]
  },
  {
   "cell_type": "markdown",
   "id": "f875ccee",
   "metadata": {},
   "source": [
    "# <b> Recursive functions </b>"
   ]
  },
  {
   "cell_type": "markdown",
   "id": "1d50ac49",
   "metadata": {},
   "source": [
    "## A function that <b> calls itself </b>"
   ]
  },
  {
   "cell_type": "markdown",
   "id": "9d1253a3",
   "metadata": {},
   "source": [
    "### <u> Example 1</u> : `factorial`"
   ]
  },
  {
   "cell_type": "code",
   "execution_count": 9,
   "id": "f890e7d4",
   "metadata": {},
   "outputs": [
    {
     "data": {
      "text/plain": [
       "720"
      ]
     },
     "execution_count": 9,
     "metadata": {},
     "output_type": "execute_result"
    }
   ],
   "source": [
    "def fact(n):\n",
    "    \"\"\"\n",
    "    Computes the factorial of a given number n : \n",
    "\n",
    "    Args : \n",
    "    n (int) \n",
    "\n",
    "    Returns :\n",
    "    int : factorial of n (n!)\n",
    "    \"\"\"\n",
    "    if n == 0 :\n",
    "        return 1\n",
    "    return n * fact(n-1)\n",
    "fact(6)"
   ]
  },
  {
   "cell_type": "markdown",
   "id": "19a8fb21",
   "metadata": {},
   "source": [
    "### <u> Example 2</u> : Fibonacci sequence"
   ]
  },
  {
   "cell_type": "markdown",
   "id": "235b4ecb",
   "metadata": {},
   "source": [
    "$$F_0 = 0,\\quad F_1 = 1 \\qquad,\\qquad F_n = F_{n-1}+F_{n-2} \\qquad \\forall n\\geq2$$"
   ]
  },
  {
   "cell_type": "code",
   "execution_count": 23,
   "id": "0c6250b6",
   "metadata": {},
   "outputs": [
    {
     "name": "stdout",
     "output_type": "stream",
     "text": [
      "F(0) = 0\n",
      "F(1) = 1\n",
      "F(2) = 1\n",
      "F(3) = 2\n",
      "F(4) = 3\n",
      "F(5) = 5\n",
      "F(6) = 8\n",
      "F(7) = 13\n",
      "F(8) = 21\n",
      "F(9) = 34\n",
      "F(10) = 55\n"
     ]
    }
   ],
   "source": [
    "def fibonacci (n):\n",
    "    if n <= 1:\n",
    "        return n\n",
    "    elif n>=2 :\n",
    "        return fibonacci(n-1) + fibonacci(n-2)\n",
    "    else:\n",
    "        return \"input should be positive integer\"\n",
    "\n",
    "for i in range (11):\n",
    "    print (f'F({i}) = {fibonacci(i)}')"
   ]
  },
  {
   "cell_type": "markdown",
   "id": "63fea973",
   "metadata": {},
   "source": [
    "***"
   ]
  },
  {
   "cell_type": "markdown",
   "id": "b7bff860",
   "metadata": {},
   "source": [
    "# <b> Lambda functions </b> "
   ]
  },
  {
   "cell_type": "markdown",
   "id": "26edd9b6",
   "metadata": {},
   "source": [
    "### A small anonymous, single-expression function (inline)"
   ]
  },
  {
   "cell_type": "code",
   "execution_count": 24,
   "id": "7fca802c",
   "metadata": {},
   "outputs": [
    {
     "data": {
      "text/plain": [
       "8"
      ]
     },
     "execution_count": 24,
     "metadata": {},
     "output_type": "execute_result"
    }
   ],
   "source": [
    "double = lambda x : 2*x\n",
    "double(4)"
   ]
  },
  {
   "cell_type": "code",
   "execution_count": 25,
   "id": "fba3dae3",
   "metadata": {},
   "outputs": [
    {
     "data": {
      "text/plain": [
       "8"
      ]
     },
     "execution_count": 25,
     "metadata": {},
     "output_type": "execute_result"
    }
   ],
   "source": [
    "def power (n):\n",
    "    return lambda x :x**n\n",
    "\n",
    "cube = power(3)\n",
    "cube(2)"
   ]
  }
 ],
 "metadata": {
  "kernelspec": {
   "display_name": "Python 3",
   "language": "python",
   "name": "python3"
  },
  "language_info": {
   "codemirror_mode": {
    "name": "ipython",
    "version": 3
   },
   "file_extension": ".py",
   "mimetype": "text/x-python",
   "name": "python",
   "nbconvert_exporter": "python",
   "pygments_lexer": "ipython3",
   "version": "3.13.7"
  }
 },
 "nbformat": 4,
 "nbformat_minor": 5
}
