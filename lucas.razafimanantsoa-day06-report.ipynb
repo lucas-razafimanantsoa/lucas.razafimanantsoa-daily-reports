{
 "cells": [
  {
   "cell_type": "markdown",
   "id": "4f47ebcf",
   "metadata": {},
   "source": [
    "# <center> <b>AIMS Rwanda</b>\n",
    "\n",
    "## <center> <b>Lucas Mirija RAZAFIMANANTSOA</b>"
   ]
  },
  {
   "cell_type": "markdown",
   "id": "7352fe89",
   "metadata": {},
   "source": [
    "***\n",
    "***\n",
    "***"
   ]
  },
  {
   "cell_type": "markdown",
   "id": "5d929ff0",
   "metadata": {},
   "source": [
    "# Flow Control"
   ]
  },
  {
   "cell_type": "markdown",
   "id": "b2d47824",
   "metadata": {},
   "source": [
    "## `if - else` statements"
   ]
  },
  {
   "cell_type": "markdown",
   "id": "f3b77f28",
   "metadata": {},
   "source": [
    "```python\n",
    "if 'condition' : \n",
    "    *do something*\n",
    "else : \n",
    "    *do something else*\n",
    "```"
   ]
  },
  {
   "cell_type": "code",
   "execution_count": 1,
   "id": "5ecf0c1b",
   "metadata": {},
   "outputs": [
    {
     "name": "stdout",
     "output_type": "stream",
     "text": [
      "not ok\n"
     ]
    }
   ],
   "source": [
    "a = 2\n",
    "if a>12:\n",
    "    print(\"ok\")\n",
    "else : \n",
    "    print (\"not ok\")"
   ]
  },
  {
   "cell_type": "markdown",
   "id": "ab20b412",
   "metadata": {},
   "source": [
    "## `if - elif - else`\n",
    "\n",
    "```python\n",
    "if condition 1 : \n",
    "    instruction 1\n",
    "elif condition 2 : \n",
    "    instruction 2\n",
    "    .\n",
    "    .\n",
    "    .\n",
    "else :\n",
    "    instruction n\n",
    "```"
   ]
  },
  {
   "cell_type": "code",
   "execution_count": 2,
   "id": "2db9b25f",
   "metadata": {},
   "outputs": [
    {
     "name": "stdout",
     "output_type": "stream",
     "text": [
      "x is zero\n"
     ]
    }
   ],
   "source": [
    "x = 0\n",
    "if x>0 : \n",
    "    print (\"x is positive\")\n",
    "elif x<0 : \n",
    "    print (\"x is negative\")\n",
    "else :\n",
    "    print (\"x is zero\")"
   ]
  },
  {
   "cell_type": "markdown",
   "id": "769b1f23",
   "metadata": {},
   "source": [
    "## Embedded `if`s statements\n",
    "```python\n",
    "\n",
    "if condition 1 : \n",
    "    instruction 1\n",
    "    if condition 1.1:\n",
    "        instruction 1.1\n",
    "    else : \n",
    "        instruction 1.2\n",
    "```"
   ]
  },
  {
   "cell_type": "code",
   "execution_count": 3,
   "id": "20ab57e3",
   "metadata": {},
   "outputs": [
    {
     "name": "stdout",
     "output_type": "stream",
     "text": [
      "a is greater than b\n",
      "a is equivalent to b modulo 5\n"
     ]
    }
   ],
   "source": [
    "a , b = 15 , 10\n",
    "\n",
    "if a>b:\n",
    "    print (\"a is greater than b\")\n",
    "    if (a-b)%5==0:\n",
    "        print (\"a is equivalent to b modulo 5\")\n",
    "    else : \n",
    "        print (\"a and b are not equivalent modulo 5\")\n",
    "else : \n",
    "    print(\"b is greater than a\")"
   ]
  },
  {
   "cell_type": "markdown",
   "id": "8c89439f",
   "metadata": {},
   "source": [
    "## Exercises : roots of the quadratic equation "
   ]
  },
  {
   "cell_type": "markdown",
   "id": "380adec0",
   "metadata": {},
   "source": [
    "### a,b and c $\\in\\mathbb{R}$"
   ]
  },
  {
   "cell_type": "code",
   "execution_count": 14,
   "id": "5504abb1",
   "metadata": {},
   "outputs": [
    {
     "name": "stdout",
     "output_type": "stream",
     "text": [
      "The roots are x1 = -1j and x2 = 1j\n"
     ]
    }
   ],
   "source": [
    "a,b,c = 1,0,1\n",
    "if a == 0 :\n",
    "    print (\"choose a non-zero\")\n",
    "\n",
    "else : \n",
    "    delta  = b**2 - 4*a*c\n",
    "    if delta == 0:\n",
    "        x = (-b)/(2*a)\n",
    "        print (f'The root with multiplicity 2 is {x}')\n",
    "    elif delta>0 :\n",
    "        Vd = delta **0.5\n",
    "        x1 = (-b-Vd)/(2*a)\n",
    "        x2 = (-b+Vd)/(2*a)\n",
    "        print(f'The roots are x1 = {x1} and x2 = {x2}')\n",
    "    else :\n",
    "        Vd = (abs(delta) **0.5)*1j\n",
    "        x1 = (-b-Vd)/(2*a)\n",
    "        x2 = (-b+Vd)/(2*a)\n",
    "        print(f'The roots are x1 = {x1} and x2 = {x2}')\n",
    "    \n",
    "    "
   ]
  },
  {
   "cell_type": "markdown",
   "id": "b53cb597",
   "metadata": {},
   "source": [
    "### a,b and c $\\in\\mathbb{C}$"
   ]
  },
  {
   "cell_type": "code",
   "execution_count": 5,
   "id": "b4cde5eb",
   "metadata": {},
   "outputs": [
    {
     "name": "stdout",
     "output_type": "stream",
     "text": [
      "(-3.5-0.5j) (1+0j)\n"
     ]
    },
    {
     "data": {
      "text/plain": [
       "0j"
      ]
     },
     "execution_count": 5,
     "metadata": {},
     "output_type": "execute_result"
    }
   ],
   "source": [
    "import cmath\n",
    "a,b,c = 1+1j,2+3j,-3-4j\n",
    "if a == 0 :\n",
    "    print (\"choose 'a' non-zero\")\n",
    "\n",
    "else : \n",
    "    delta  = 4*a*c - b**2\n",
    "    Vd = cmath.sqrt(delta)\n",
    "    x1 = (-b-Vd*1j)/(2*a)\n",
    "    x2 = (-b+Vd*1j)/(2*a)\n",
    "    print (x1,x2)\n",
    "\n",
    "a*x1**2 + b*x1 + c"
   ]
  },
  {
   "cell_type": "markdown",
   "id": "30409d18",
   "metadata": {},
   "source": [
    "## Loops"
   ]
  },
  {
   "cell_type": "markdown",
   "id": "39c264e8",
   "metadata": {},
   "source": [
    "### `while` loop\n",
    "```python\n",
    "Initialize increment variable\n",
    "while condition : \n",
    "    block_of_instructions\n",
    "    increment\n",
    "```\n",
    "\n",
    "### `for` loop\n",
    "```python\n",
    "for element in sequence_of_values : \n",
    "    block of instruction\n",
    "```"
   ]
  },
  {
   "cell_type": "code",
   "execution_count": 6,
   "id": "d9c8b794",
   "metadata": {},
   "outputs": [
    {
     "name": "stdout",
     "output_type": "stream",
     "text": [
      "The value of i is 1\n",
      "The value of i is 2\n",
      "The value of i is 3\n",
      "The value of i is 4\n",
      "The value of i is 5\n"
     ]
    }
   ],
   "source": [
    "i = 1\n",
    "while i<=5 : \n",
    "    print (\"The value of i is\",i)\n",
    "    i+=1"
   ]
  },
  {
   "cell_type": "code",
   "execution_count": 7,
   "id": "19675e27",
   "metadata": {},
   "outputs": [
    {
     "name": "stdout",
     "output_type": "stream",
     "text": [
      "0\n",
      "1\n",
      "2\n",
      "3\n",
      "A\n",
      " \n",
      "s\n",
      "e\n",
      "n\n",
      "t\n",
      "e\n",
      "n\n",
      "c\n",
      "e\n"
     ]
    }
   ],
   "source": [
    "n = 4\n",
    "for i in range (n):\n",
    "    print (i)\n",
    "for char in \"A sentence\":\n",
    "    print (char)\n"
   ]
  },
  {
   "cell_type": "code",
   "execution_count": 8,
   "id": "664d2341",
   "metadata": {},
   "outputs": [
    {
     "name": "stdout",
     "output_type": "stream",
     "text": [
      "not here\n",
      "there it is\n",
      "not here\n",
      "not here\n"
     ]
    }
   ],
   "source": [
    "list_fr = [3,5,\"hello\",98]\n",
    "for i in list_fr:\n",
    "    if i == 5:\n",
    "        print (\"there it is\")\n",
    "    else : \n",
    "        print ('not here')\n"
   ]
  },
  {
   "cell_type": "markdown",
   "id": "1b46b0b4",
   "metadata": {},
   "source": [
    "### Exercise : "
   ]
  },
  {
   "cell_type": "code",
   "execution_count": 9,
   "id": "3f0a7eae",
   "metadata": {},
   "outputs": [
    {
     "name": "stdout",
     "output_type": "stream",
     "text": [
      "The character 'H'is a consonnant\n",
      "The character 'e' is a vowel\n",
      "The character 'l'is a consonnant\n",
      "The character 'l'is a consonnant\n",
      "The character 'o' is a vowel\n",
      "The character ',' is a punctuation\n",
      "The character ' ' is a blank space\n",
      "The character 'w'is a consonnant\n",
      "The character 'o' is a vowel\n",
      "The character 'r'is a consonnant\n",
      "The character 'l'is a consonnant\n",
      "The character 'd'is a consonnant\n",
      "The character '.' is a punctuation\n"
     ]
    }
   ],
   "source": [
    "sentence  = \"Hello, world.\"\n",
    "for char in sentence: \n",
    "    if char in \"AEIOUYaeyuio\":\n",
    "        print (f\"The character '{char}' is a vowel\")\n",
    "    elif char ==' ':\n",
    "        print (f\"The character '{char}' is a blank space\")\n",
    "    elif char in [',', '.', ';']:\n",
    "        print (f\"The character '{char}' is a punctuation\")\n",
    "    else : \n",
    "        print (f\"The character '{char}'is a consonnant\")\n"
   ]
  },
  {
   "cell_type": "code",
   "execution_count": null,
   "id": "6217365b",
   "metadata": {},
   "outputs": [],
   "source": []
  }
 ],
 "metadata": {
  "kernelspec": {
   "display_name": "Python 3",
   "language": "python",
   "name": "python3"
  },
  "language_info": {
   "codemirror_mode": {
    "name": "ipython",
    "version": 3
   },
   "file_extension": ".py",
   "mimetype": "text/x-python",
   "name": "python",
   "nbconvert_exporter": "python",
   "pygments_lexer": "ipython3",
   "version": "3.13.7"
  }
 },
 "nbformat": 4,
 "nbformat_minor": 5
}
